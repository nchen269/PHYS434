{
 "cells": [
  {
   "cell_type": "code",
   "execution_count": 56,
   "metadata": {},
   "outputs": [],
   "source": [
    "import numpy as np\n",
    "import matplotlib\n",
    "import matplotlib.pyplot as plt\n",
    "import scipy\n",
    "from scipy import stats\n",
    "from scipy.stats import lognorm\n",
    "#this sets the size of the plot to something useful\n"
   ]
  },
  {
   "cell_type": "code",
   "execution_count": 62,
   "metadata": {},
   "outputs": [
    {
     "data": {
      "image/png": "[encoded data removed]",
      "text/plain": [
       "<Figure size 432x288 with 1 Axes>"
      ]
     },
     "metadata": {
      "needs_background": "light"
     },
     "output_type": "display_data"
    }
   ],
   "source": [
    "d = stats.norm.rvs(loc = 0., scale = 1, size = 10000)\n",
    "fig, ax = plt.subplots(1, 1)\n",
    "ax.hist(d,100, density=True)\n",
    "plt.tick_params(labelsize = 24)\n",
    "plt.xlim([-3,3])\n",
    "x = np.linspace(-3,3,1000)\n",
    "ax.plot(x,stats.norm.pdf(x,loc = 0., scale = 1),linewidth = 5,alpha = 0.7)\n",
    "plt.show()"
   ]
  },
  {
   "cell_type": "code",
   "execution_count": 72,
   "metadata": {},
   "outputs": [
    {
     "name": "stdout",
     "output_type": "stream",
     "text": [
      "For probablity of  0.8413447460685429 , the value of sigma is 1.0\n",
      "For probablity of  0.9772498680518208 , the value of sigma is 2\n",
      "For probablity of  0.9999997133484281 , the value of sigma is 4\n"
     ]
    }
   ],
   "source": [
    " #integral from negative infinite to one standard deviation\n",
    "print(\"For probablity of \",stats.norm.cdf(1), \", the value of sigma is\", stats.norm.ppf(stats.norm.cdf(1)))\n",
    "print(\"For probablity of \",stats.norm.cdf(2), \", the value of sigma is\", int(stats.norm.ppf(stats.norm.cdf(2))))\n",
    "print(\"For probablity of \",stats.norm.cdf(5), \", the value of sigma is\", int(stats.norm.ppf(stats.norm.cdf(5))))"
   ]
  },
  {
   "cell_type": "code",
   "execution_count": 48,
   "metadata": {},
   "outputs": [
    {
     "data": {
      "image/png": "[encoded data removed]",
      "text/plain": [
       "<Figure size 432x288 with 1 Axes>"
      ]
     },
     "metadata": {
      "needs_background": "light"
     },
     "output_type": "display_data"
    },
    {
     "name": "stdout",
     "output_type": "stream",
     "text": [
      "Lognormal distribution with standard deviation = 1\n"
     ]
    }
   ],
   "source": [
    "'''\n",
    "I chose lognormal distribution\n",
    "\n",
    "'''\n",
    "\n",
    "s=1 #standard deviation\n",
    "\n",
    "samp=stats.lognorm.rvs(s,size=100000) #sample\n",
    "plt.tick_params(labelsize=10)\n",
    "plt.xlim([0,10])\n",
    "x = np.linspace(stats.lognorm.ppf(0.001, s),\n",
    "                stats.lognorm.ppf(0.999, s), 1000)   \n",
    "\n",
    "#lognorm.ppf(0.01, s) gives the x value when ppf=0.001 for a lognormal with standard deviation of 1 \n",
    "#lognorm.ppf(0.99, s) gives the x value when ppf=0.999 for a lognormal with standard deviation of 1 \n",
    "\n",
    "plt.hist(samp,bins=500,density=True,alpha=.7)\n",
    "\n",
    "plt.plot(x, stats.lognorm.pdf(x, s), lw=5, alpha=0.7, label='lognorm pdf')\n",
    "stats.lognorm.ppf(0.8,s)\n",
    "plt.show()\n",
    "print(\"Lognormal distribution with standard deviation =\", s)\n"
   ]
  },
  {
   "cell_type": "code",
   "execution_count": 5,
   "metadata": {},
   "outputs": [
    {
     "name": "stdout",
     "output_type": "stream",
     "text": [
      "0.9812116071859449 is the probablity the background produce a signal that is less signal-like than the hypothetical measurement\n",
      "which is 2.0794415416798357 sigma in a normal gaussian distribution\n",
      "0.018788392814055088 is the probablity the background produce a signal that is equally or more signal-like than the hypothetical measurement\n"
     ]
    }
   ],
   "source": [
    "'''\n",
    "3. Signal free data and measurement\n",
    "Hypothetical measurement: 8\n",
    "Question: what is the probablity that the background produces a signal that is equally or more signal-like than what I observed?\n",
    "Mathematical integral: ∫ pdf(x)dx\n",
    "'''\n",
    "hm1=8\n",
    "print(stats.lognorm.cdf(hm1, s), \"is the probablity the background produce a signal that is less signal-like than the hypothetical measurement\" )  \n",
    "print(\"which is\", stats.norm.ppf(stats.lognorm.cdf(hm1, s)),\"sigma in a normal gaussian distribution\")\n",
    "print (1-stats.lognorm.cdf(hm1, s), \"is the probablity the background produce a signal that is equally or more signal-like than the hypothetical measurement\" )\n",
    "\n",
    "\n"
   ]
  },
  {
   "cell_type": "code",
   "execution_count": 6,
   "metadata": {},
   "outputs": [
    {
     "name": "stdout",
     "output_type": "stream",
     "text": [
      "0.9171714809983016 is the probablity the background produce a signal that is less signal-like than the hypothetical measurement\n",
      "which is 1.386294361119891 sigma in a normal gaussian distribution\n",
      "0.08282851900169841 is the probablity the background produce a signal that is equally or more signal-like than the hypothetical measurement\n"
     ]
    }
   ],
   "source": [
    "hm2=4\n",
    "print(stats.lognorm.cdf(hm2, s), \"is the probablity the background produce a signal that is less signal-like than the hypothetical measurement\" )  \n",
    "print(\"which is\", stats.norm.ppf(stats.lognorm.cdf(hm2, s)),\"sigma in a normal gaussian distribution\")\n",
    "print (1-stats.lognorm.cdf(hm2, s), \"is the probablity the background produce a signal that is equally or more signal-like than the hypothetical measurement\" )\n",
    "\n"
   ]
  },
  {
   "cell_type": "code",
   "execution_count": 7,
   "metadata": {},
   "outputs": [
    {
     "name": "stdout",
     "output_type": "stream",
     "text": [
      "0.7558914042144173 is the probablity the background produce a signal that is less signal-like than the hypothetical measurement\n",
      "which is 0.6931471805599453 sigma in a normal gaussian distribution\n",
      "0.24410859578558275 is the probablity the background produce a signal that is equally or more signal-like than the hypothetical measurement\n",
      "0.5 is the probablity the background produce a signal that is less signal-like than the hypothetical measurement\n",
      "which is 0.0 sigma in a normal gaussian distribution\n",
      "0.5 is the probablity the background produce a signal that is equally or more signal-like than the hypothetical measurement\n"
     ]
    },
    {
     "data": {
      "text/plain": [
       "'\\n\\n'"
      ]
     },
     "execution_count": 7,
     "metadata": {},
     "output_type": "execute_result"
    }
   ],
   "source": [
    "hm3=2\n",
    "print(stats.lognorm.cdf(hm3, s), \"is the probablity the background produce a signal that is less signal-like than the hypothetical measurement\" )  \n",
    "print(\"which is\", stats.norm.ppf(stats.lognorm.cdf(hm3, s)),\"sigma in a normal gaussian distribution\")\n",
    "print (1-stats.lognorm.cdf(hm3, s), \"is the probablity the background produce a signal that is equally or more signal-like than the hypothetical measurement\" )\n",
    "\n",
    "\n",
    "hm4=1\n",
    "print(stats.lognorm.cdf(hm4, s), \"is the probablity the background produce a signal that is less signal-like than the hypothetical measurement\" )  \n",
    "print(\"which is\", stats.norm.ppf(stats.lognorm.cdf(hm4, s)),\"sigma in a normal gaussian distribution\")\n",
    "print (1-stats.lognorm.cdf(hm4, s), \"is the probablity the background produce a signal that is equally or more signal-like than the hypothetical measurement\" )\n",
    "\n",
    "\n",
    "\n",
    "'''\n",
    "\n",
    "'''"
   ]
  },
  {
   "cell_type": "code",
   "execution_count": 50,
   "metadata": {},
   "outputs": [
    {
     "data": {
      "image/png": "[encoded data removed]",
      "text/plain": [
       "<Figure size 432x288 with 1 Axes>"
      ]
     },
     "metadata": {
      "needs_background": "light"
     },
     "output_type": "display_data"
    },
    {
     "name": "stdout",
     "output_type": "stream",
     "text": [
      "poisson distribution with mean= 2\n"
     ]
    }
   ],
   "source": [
    "'''\n",
    "Poisson Distribution\n",
    "\n",
    "\n",
    "'''\n",
    "\n",
    "mu=2\n",
    "\n",
    "\n",
    "sample = stats.poisson.rvs(mu, size=10000, random_state=None)\n",
    "n = int((sample.max() - sample.min())/1)\n",
    "plt.hist(sample,bins=n,density=True,alpha=.7)\n",
    "\n",
    "x = np.arange(stats.poisson.ppf(0.01, mu),\n",
    "              stats.poisson.ppf(0.99, mu))\n",
    "plt.xlim([0,15])\n",
    "plt.plot(x, stats.poisson.pmf(x, mu), 'bo', ms=8, label='poisson pmf')\n",
    "plt.show()\n",
    "print(\"poisson distribution with mean=\",mu)\n"
   ]
  },
  {
   "cell_type": "code",
   "execution_count": 51,
   "metadata": {},
   "outputs": [
    {
     "data": {
      "image/png": "[encoded data removed]",
      "text/plain": [
       "<Figure size 432x288 with 1 Axes>"
      ]
     },
     "metadata": {
      "needs_background": "light"
     },
     "output_type": "display_data"
    },
    {
     "name": "stdout",
     "output_type": "stream",
     "text": [
      "poisson distribution with mean= 4\n"
     ]
    }
   ],
   "source": [
    "mu=4\n",
    "\n",
    "\n",
    "sample = stats.poisson.rvs(mu, size=10000, random_state=None)\n",
    "\n",
    "n = int((sample.max() - sample.min())/1)\n",
    "plt.hist(sample,bins=n,density=True,alpha=.7)\n",
    "\n",
    "x = np.arange(stats.poisson.ppf(0.01, mu),\n",
    "              stats.poisson.ppf(0.99, mu))\n",
    "#plt.xlim([0,15])\n",
    "plt.plot(x, stats.poisson.pmf(x, mu), 'bo', ms=8, label='poisson pmf')\n",
    "plt.show()\n",
    "print(\"poisson distribution with mean=\",mu)"
   ]
  },
  {
   "cell_type": "code",
   "execution_count": 52,
   "metadata": {},
   "outputs": [
    {
     "data": {
      "image/png": "[encoded data removed]",
      "text/plain": [
       "<Figure size 432x288 with 1 Axes>"
      ]
     },
     "metadata": {
      "needs_background": "light"
     },
     "output_type": "display_data"
    },
    {
     "name": "stdout",
     "output_type": "stream",
     "text": [
      "poisson distribution with mean= 10\n"
     ]
    }
   ],
   "source": [
    "mu=10\n",
    "\n",
    "\n",
    "sample = stats.poisson.rvs(mu, size=10000, random_state=None)\n",
    "n = int((sample.max() - sample.min())/1)\n",
    "plt.hist(sample,bins=n,density=True,alpha=.7)\n",
    "\n",
    "x = np.arange(stats.poisson.ppf(0.01, mu),\n",
    "              stats.poisson.ppf(0.99, mu))\n",
    "#plt.xlim([0,15])\n",
    "plt.plot(x, stats.poisson.pmf(x, mu), 'bo', ms=8, label='poisson pmf')\n",
    "plt.show()\n",
    "print(\"poisson distribution with mean=\",mu)"
   ]
  },
  {
   "cell_type": "code",
   "execution_count": 53,
   "metadata": {},
   "outputs": [
    {
     "data": {
      "image/png": "[encoded data removed]",
      "text/plain": [
       "<Figure size 432x288 with 1 Axes>"
      ]
     },
     "metadata": {
      "needs_background": "light"
     },
     "output_type": "display_data"
    },
    {
     "name": "stdout",
     "output_type": "stream",
     "text": [
      "poisson distribution with mean= 50\n"
     ]
    }
   ],
   "source": [
    "mu=50\n",
    "sample = stats.poisson.rvs(mu, size=10000, random_state=None)\n",
    "n = int((sample.max() - sample.min())/1)\n",
    "plt.hist(sample,bins=n,density=True,alpha=.7)\n",
    "\n",
    "x = np.arange(stats.poisson.ppf(0.01, mu),\n",
    "              stats.poisson.ppf(0.99, mu))\n",
    "#plt.xlim([0,15])\n",
    "plt.plot(x, stats.poisson.pmf(x, mu), 'bo', ms=8, label='poisson pmf')\n",
    "plt.show()\n",
    "print(\"poisson distribution with mean=\",mu)"
   ]
  },
  {
   "cell_type": "code",
   "execution_count": 43,
   "metadata": {},
   "outputs": [
    {
     "name": "stdout",
     "output_type": "stream",
     "text": [
      "\n",
      "Poisson distribution is the probality of the number of random, independent events in a specific time interval.\n",
      "Different from Gaussian or Lognormal distributions, Poisson distribution is not continuous probablity distribution but discrete.\n",
      "Poisson distribution is assymetric but as the mean increases, it becomes more normal-distribution-like.\n",
      "Question(plot 1): If a hypothetical measurement is 6 events per minute, what is the probablity that the background produces a signal that is equally or more signal-like than what I observed?)\n",
      "\n"
     ]
    }
   ],
   "source": [
    "print(\"\"\"\n",
    "Poisson distribution is the probality of the number of random, independent events in a specific time interval.\n",
    "Different from Gaussian or Lognormal distributions, Poisson distribution is not continuous probablity distribution but discrete.\n",
    "Poisson distribution is assymetric but as the mean increases, it becomes more normal-distribution-like.\n",
    "Question(plot 1): If a hypothetical measurement is 6 events per minute, what is the probablity that the background produces a signal that is equally or more signal-like than what I observed?)\n",
    "\"\"\")\n"
   ]
  },
  {
   "cell_type": "code",
   "execution_count": 44,
   "metadata": {},
   "outputs": [
    {
     "name": "stdout",
     "output_type": "stream",
     "text": [
      "0.9954661944737512 is the probablity the background produce more events than the hypothetical measurement, which is 6 events per minute.\n",
      "which is 0.45842495327867266 sigma in a normal gaussian distribution.\n",
      "The probablities and the sigma are discrete because measurements of the events happen per minute can only be an integer. Therefore cdf() can only take integer input. \n",
      "Yet the parameters of the distributions are not. The average of integers can be a float, so it can change continuously.\n"
     ]
    }
   ],
   "source": [
    "mu=2\n",
    "stats.poisson.cdf(6, mu)\n",
    "print(stats.poisson.cdf(6, mu), \"is the probablity the background produce more events than the hypothetical measurement, which is 6 events per minute.\" )  \n",
    "print(\"which is\", stats.norm.ppf(stats.poisson.cdf(2, mu)),\"sigma in a normal gaussian distribution.\")\n",
    "\n",
    "print(\"The probablities and the sigma are discrete because measurements of the events happen per minute can only be an integer. Therefore cdf() can only take integer input. \")\n",
    "print(\"Yet the parameters of the distributions are not. The average of integers can be a float, so it can change continuously.\")"
   ]
  },
  {
   "cell_type": "code",
   "execution_count": null,
   "metadata": {},
   "outputs": [],
   "source": []
  },
  {
   "cell_type": "code",
   "execution_count": null,
   "metadata": {},
   "outputs": [],
   "source": []
  }
 ],
 "metadata": {
  "kernelspec": {
   "display_name": "Python 3",
   "language": "python",
   "name": "python3"
  },
  "language_info": {
   "codemirror_mode": {
    "name": "ipython",
    "version": 3
   },
   "file_extension": ".py",
   "mimetype": "text/x-python",
   "name": "python",
   "nbconvert_exporter": "python",
   "pygments_lexer": "ipython3",
   "version": "3.7.4"
  }
 },
 "nbformat": 4,
 "nbformat_minor": 4
}
