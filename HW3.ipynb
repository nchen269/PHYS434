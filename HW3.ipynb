{
 "cells": [
  {
   "cell_type": "markdown",
   "metadata": {},
   "source": [
    "1. Assume the truth table below is the current system\n",
    "|     | True Bird | True Person|\n",
    "|------|------|------|\n",
    "|  NN Bird  |45|5|\n",
    "|   NN Person | 3|47|\n",
    "\n",
    "You've developed a new algorithm (NA) with the following truth table:\n",
    "\n",
    "|     | True Bird | True Person|\n",
    "|------|------|------|\n",
    "|  NA Bird  |47|11|\n",
    "|   NA Person | 1|42|\n",
    "\n",
    "##### 1a) Which algorithm makes the fewest mistakes?"
   ]
  },
  {
   "cell_type": "markdown",
   "metadata": {},
   "source": [
    "There are 8 miscategorizations in the current system, and 12 miscategorizations in the new system. The current (1st) algorithm makes the fewest mistakes."
   ]
  },
  {
   "cell_type": "markdown",
   "metadata": {},
   "source": [
    "##### 1b) Which algorithm is better for the zoo? Explain."
   ]
  },
  {
   "cell_type": "markdown",
   "metadata": {},
   "source": [
    "The new (2nd) algorithm is better for the zoo. The algorithm is designed to keep birds from escaping, so whichever system makes the fewest mistake in identifying bird as person is better. The current system miscategorizes birds as persons three times, while the new system only miscategorizes once. Therefore the new system is better."
   ]
  },
  {
   "cell_type": "markdown",
   "metadata": {},
   "source": [
    "##### 1c) During the pandemic the number of visitors plummets, and it is only the zoo keeper visiting. So instead of 52% of the photos taken at the aviary door being people, it is now only 1%. Make new truth tables for both algorithms."
   ]
  },
  {
   "cell_type": "markdown",
   "metadata": {},
   "source": [
    "Current algorithm:\n",
    "\n",
    "|     | True Bird | True Person|\n",
    "|------|------|------|\n",
    "|  NN Bird  |93|0|\n",
    "|   NN Person | 6|1|\n",
    "\n",
    "New algorithm:\n",
    "\n",
    "|     | True Bird | True Person|\n",
    "|------|------|------|\n",
    "|  NA Bird  |97|0|\n",
    "|   NA Person | 2|1|"
   ]
  },
  {
   "cell_type": "markdown",
   "metadata": {},
   "source": [
    "##### 2a) What is the pdf of the sum of two identical exponential distributions?"
   ]
  },
  {
   "cell_type": "markdown",
   "metadata": {},
   "source": [
    "It is the Erlang distribution."
   ]
  },
  {
   "cell_type": "markdown",
   "metadata": {},
   "source": [
    "##### 2b) What is the pdf of the ratio of two zero-mean unity variance normal distributions  𝑋1/𝑋2?"
   ]
  },
  {
   "cell_type": "markdown",
   "metadata": {},
   "source": [
    "It is the Cauchy distribution."
   ]
  },
  {
   "cell_type": "markdown",
   "metadata": {},
   "source": [
    "##### 2c) So far we have looked at 1D probability distributions, but it is possible to have a multi-dimensional vector distribution. A simple first introduction is the 2D Guassian; it looks like a smeared spot. Mathematically this is given by  𝑋𝑖̂+𝑌𝑗̂, where both 𝑋 and 𝑌 are drawn from 1D Gaussian distributions. If I measure the amplitude of this vector, what is its pdf? (Hint, the amplitude is always positive.)"
   ]
  },
  {
   "cell_type": "code",
   "execution_count": null,
   "metadata": {},
   "outputs": [],
   "source": [
    "Z=sqrt (x^2+Y^2)"
   ]
  },
  {
   "cell_type": "code",
   "execution_count": null,
   "metadata": {},
   "outputs": [],
   "source": []
  }
 ],
 "metadata": {
  "kernelspec": {
   "display_name": "Python 3",
   "language": "python",
   "name": "python3"
  },
  "language_info": {
   "codemirror_mode": {
    "name": "ipython",
    "version": 3
   },
   "file_extension": ".py",
   "mimetype": "text/x-python",
   "name": "python",
   "nbconvert_exporter": "python",
   "pygments_lexer": "ipython3",
   "version": "3.7.4"
  }
 },
 "nbformat": 4,
 "nbformat_minor": 4
}
